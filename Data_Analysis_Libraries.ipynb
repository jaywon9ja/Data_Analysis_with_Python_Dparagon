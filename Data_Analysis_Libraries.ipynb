{
 "cells": [
  {
   "cell_type": "markdown",
   "id": "9a6ee373-aae1-405a-9960-27c85260b671",
   "metadata": {},
   "source": [
    "## Data Analysis with python\n",
    "\n",
    ". numpy\n",
    ". pandas"
   ]
  },
  {
   "cell_type": "code",
   "execution_count": 1,
   "id": "0b6ba9b8-5801-455f-a056-fa73eeb4d67e",
   "metadata": {},
   "outputs": [
    {
     "name": "stdout",
     "output_type": "stream",
     "text": [
      "Requirement already satisfied: numpy in c:\\users\\juwon - pc\\anaconda3\\lib\\site-packages (1.26.4)\n"
     ]
    }
   ],
   "source": [
    "!pip install numpy"
   ]
  },
  {
   "cell_type": "markdown",
   "id": "ac9c68f4-c1a6-4022-a610-44ef62324a3a",
   "metadata": {},
   "source": [
    "## Numpy Library (Numerical Python)\n",
    "\n",
    "A library that is basically a class that has been modularized"
   ]
  },
  {
   "cell_type": "code",
   "execution_count": 2,
   "id": "8b178837-c5f0-4272-bf67-b0737c6e3b74",
   "metadata": {},
   "outputs": [],
   "source": [
    "import numpy as np"
   ]
  },
  {
   "cell_type": "code",
   "execution_count": 3,
   "id": "b6a6c267-bc8e-45c9-8e6b-ba4c0494ca74",
   "metadata": {},
   "outputs": [
    {
     "name": "stdout",
     "output_type": "stream",
     "text": [
      "[2 3 4 5 6]\n"
     ]
    }
   ],
   "source": [
    "numbers = np.array([2,3,4,5,6])\n",
    "\n",
    "print(numbers)"
   ]
  },
  {
   "cell_type": "code",
   "execution_count": 4,
   "id": "0657c462-aeec-471f-921e-5a749f46ca41",
   "metadata": {},
   "outputs": [
    {
     "data": {
      "text/plain": [
       "numpy.ndarray"
      ]
     },
     "execution_count": 4,
     "metadata": {},
     "output_type": "execute_result"
    }
   ],
   "source": [
    "type(numbers)"
   ]
  },
  {
   "cell_type": "code",
   "execution_count": 5,
   "id": "19a2f7fe-6af1-4377-bef9-28870c28deef",
   "metadata": {},
   "outputs": [
    {
     "data": {
      "text/plain": [
       "1"
      ]
     },
     "execution_count": 5,
     "metadata": {},
     "output_type": "execute_result"
    }
   ],
   "source": [
    "numbers.ndim"
   ]
  },
  {
   "cell_type": "code",
   "execution_count": 6,
   "id": "6a8c5d13-8b87-4945-8221-ea352c7a97e4",
   "metadata": {},
   "outputs": [],
   "source": [
    "arr_2 = np.array([[2,4],[3,6]])"
   ]
  },
  {
   "cell_type": "code",
   "execution_count": 7,
   "id": "802708a5-760d-47f4-83e2-17fcad4361f8",
   "metadata": {},
   "outputs": [
    {
     "data": {
      "text/plain": [
       "2"
      ]
     },
     "execution_count": 7,
     "metadata": {},
     "output_type": "execute_result"
    }
   ],
   "source": [
    "arr_2.ndim"
   ]
  },
  {
   "cell_type": "code",
   "execution_count": 8,
   "id": "c4181406-9316-4634-abac-36bc84c04d0b",
   "metadata": {},
   "outputs": [],
   "source": [
    "arr_3 = np.array([\n",
    "    [3,4,5],\n",
    "    [2,7,9],\n",
    "    [3,7,4]\n",
    "])"
   ]
  },
  {
   "cell_type": "code",
   "execution_count": 9,
   "id": "3bd8b718-0a6e-4186-9156-86c5bebada23",
   "metadata": {},
   "outputs": [
    {
     "data": {
      "text/plain": [
       "2"
      ]
     },
     "execution_count": 9,
     "metadata": {},
     "output_type": "execute_result"
    }
   ],
   "source": [
    "arr_3.ndim"
   ]
  },
  {
   "cell_type": "code",
   "execution_count": 10,
   "id": "4860dbca-419d-4b6b-a6d2-6a74fbe937f6",
   "metadata": {},
   "outputs": [
    {
     "data": {
      "text/plain": [
       "(3, 3)"
      ]
     },
     "execution_count": 10,
     "metadata": {},
     "output_type": "execute_result"
    }
   ],
   "source": [
    "arr_3.shape"
   ]
  },
  {
   "cell_type": "code",
   "execution_count": 11,
   "id": "94a0ea3f-9384-42a8-8daf-f1e176ee4888",
   "metadata": {},
   "outputs": [
    {
     "data": {
      "text/plain": [
       "(2, 2)"
      ]
     },
     "execution_count": 11,
     "metadata": {},
     "output_type": "execute_result"
    }
   ],
   "source": [
    "arr_2.shape"
   ]
  },
  {
   "cell_type": "code",
   "execution_count": 12,
   "id": "b7bb13f1-c98b-40d5-9ab5-c7719c8033e8",
   "metadata": {},
   "outputs": [],
   "source": [
    "arr_4 = np.array([\n",
    "    [3,4,5,6],\n",
    "    [2,4,5,6],\n",
    "    [3,4,5,6],\n",
    "    [1,2,4,5]\n",
    "])"
   ]
  },
  {
   "cell_type": "code",
   "execution_count": 13,
   "id": "32c936fc-aeb2-4cf1-8061-3fca9a6601cb",
   "metadata": {},
   "outputs": [
    {
     "data": {
      "text/plain": [
       "(4, 4)"
      ]
     },
     "execution_count": 13,
     "metadata": {},
     "output_type": "execute_result"
    }
   ],
   "source": [
    "arr_4.shape"
   ]
  },
  {
   "cell_type": "code",
   "execution_count": 14,
   "id": "6194cd28-b9da-43b1-ae11-61383f3a377d",
   "metadata": {},
   "outputs": [
    {
     "data": {
      "text/plain": [
       "2"
      ]
     },
     "execution_count": 14,
     "metadata": {},
     "output_type": "execute_result"
    }
   ],
   "source": [
    "arr_4.ndim"
   ]
  },
  {
   "cell_type": "code",
   "execution_count": null,
   "id": "90464502-4bb9-4e9f-af18-549bcbf38266",
   "metadata": {},
   "outputs": [],
   "source": []
  },
  {
   "cell_type": "code",
   "execution_count": null,
   "id": "5ed86bee-98ea-462a-bd8b-77eb7cff5390",
   "metadata": {},
   "outputs": [],
   "source": []
  },
  {
   "cell_type": "code",
   "execution_count": null,
   "id": "6e6be7e8-9f68-4dfb-8640-861c3b0e46d6",
   "metadata": {},
   "outputs": [],
   "source": []
  },
  {
   "cell_type": "code",
   "execution_count": null,
   "id": "41b1bb18-cbd1-4456-9082-c41ffdd3e173",
   "metadata": {},
   "outputs": [],
   "source": []
  },
  {
   "cell_type": "code",
   "execution_count": null,
   "id": "b87760d8-4346-48ac-91f9-5ff263ab9f55",
   "metadata": {},
   "outputs": [],
   "source": []
  },
  {
   "cell_type": "markdown",
   "id": "ddf1aec5-5cfc-445a-8865-6213fd0feca3",
   "metadata": {},
   "source": [
    "# Pandas\n",
    "\n",
    "* Actual foundation of data analytics in pyhton\n",
    "\n",
    "* Data Structure : Pandas come with two (2) Data Structure\n",
    "- Anything you can use to store data e.g. List, numppy, tuple...\n",
    "\n",
    "* Series\n",
    "* DataFrame"
   ]
  },
  {
   "cell_type": "code",
   "execution_count": 15,
   "id": "8bc4c112-fa4a-4c8a-9c03-f22aabdfdf25",
   "metadata": {},
   "outputs": [],
   "source": [
    "import pandas as pd"
   ]
  },
  {
   "cell_type": "markdown",
   "id": "a44e62db-8c78-467f-8bb6-5d6a60d91a5f",
   "metadata": {},
   "source": [
    "# Series \n",
    "\n",
    "* It is an indexed / labelled 1-dimension array"
   ]
  },
  {
   "cell_type": "code",
   "execution_count": 16,
   "id": "f9a6ed26-5547-46f1-8c0e-4fcce0785293",
   "metadata": {},
   "outputs": [],
   "source": [
    "student = pd.Series (['Loveth', 'Onyi', 'Fisayo', 'Debby', 'Hamad', 'Fidelis'])"
   ]
  },
  {
   "cell_type": "code",
   "execution_count": 17,
   "id": "060d10e9-3def-4f94-bdbc-7f8ae25e271c",
   "metadata": {},
   "outputs": [
    {
     "data": {
      "text/plain": [
       "0     Loveth\n",
       "1       Onyi\n",
       "2     Fisayo\n",
       "3      Debby\n",
       "4      Hamad\n",
       "5    Fidelis\n",
       "dtype: object"
      ]
     },
     "execution_count": 17,
     "metadata": {},
     "output_type": "execute_result"
    }
   ],
   "source": [
    "student"
   ]
  },
  {
   "cell_type": "code",
   "execution_count": 18,
   "id": "08212466-349c-4476-b19c-01105e4cc459",
   "metadata": {},
   "outputs": [],
   "source": [
    "student = pd.Series (['Loveth', 'Onyi', 'Fisayo', 'Debby', 'Hamad', 'Fidelis'], index = ['a', 'b', 'c', 'd', 'e', 'f'])"
   ]
  },
  {
   "cell_type": "code",
   "execution_count": 19,
   "id": "640bdda6-8576-4cac-9431-93d926b87947",
   "metadata": {},
   "outputs": [
    {
     "data": {
      "text/plain": [
       "a     Loveth\n",
       "b       Onyi\n",
       "c     Fisayo\n",
       "d      Debby\n",
       "e      Hamad\n",
       "f    Fidelis\n",
       "dtype: object"
      ]
     },
     "execution_count": 19,
     "metadata": {},
     "output_type": "execute_result"
    }
   ],
   "source": [
    "student"
   ]
  },
  {
   "cell_type": "code",
   "execution_count": 20,
   "id": "e66ae19d-4948-456c-8e4b-a620e889afaf",
   "metadata": {},
   "outputs": [
    {
     "data": {
      "text/plain": [
       "'Loveth'"
      ]
     },
     "execution_count": 20,
     "metadata": {},
     "output_type": "execute_result"
    }
   ],
   "source": [
    "student ['a']"
   ]
  },
  {
   "cell_type": "markdown",
   "id": "a0b92d7b-57bc-4793-9128-4c7b731c5290",
   "metadata": {},
   "source": [
    "# Slicing \n",
    "\n",
    "* The way we slice using alphabet is different from numbers. For numbers, we usually add +1, but alphabet you put your normal indexing alphabet"
   ]
  },
  {
   "cell_type": "code",
   "execution_count": 21,
   "id": "982b754d-99d6-4a4f-bc02-6a8261c9b961",
   "metadata": {},
   "outputs": [
    {
     "data": {
      "text/plain": [
       "a    Loveth\n",
       "b      Onyi\n",
       "c    Fisayo\n",
       "d     Debby\n",
       "dtype: object"
      ]
     },
     "execution_count": 21,
     "metadata": {},
     "output_type": "execute_result"
    }
   ],
   "source": [
    "student ['a':'d']"
   ]
  },
  {
   "cell_type": "code",
   "execution_count": 22,
   "id": "80cfff2a-138e-43db-a3de-47499e9d17bb",
   "metadata": {},
   "outputs": [
    {
     "data": {
      "text/plain": [
       "0    45\n",
       "1    34\n",
       "2    23\n",
       "3    12\n",
       "dtype: int64"
      ]
     },
     "execution_count": 22,
     "metadata": {},
     "output_type": "execute_result"
    }
   ],
   "source": [
    "ages = pd.Series ([45,34,23,12])\n",
    "ages"
   ]
  },
  {
   "cell_type": "markdown",
   "id": "f02f9006-039a-4fa2-ab93-355a3822b186",
   "metadata": {},
   "source": [
    "# DataFrame\n",
    "\n",
    "* Model of a data stored in a table i.e structured data. It is a 2-dimensional data structure with rows and columns.\n",
    "\n",
    "* DataFrame is also a combination of series"
   ]
  },
  {
   "cell_type": "code",
   "execution_count": 23,
   "id": "d70bae67-336d-4097-abfd-e07359a93572",
   "metadata": {},
   "outputs": [],
   "source": [
    "student = pd.Series (['Loveth', 'Onyi', 'Fisayo', 'Debby', 'Hamad', 'Fidelis'])\n",
    "\n",
    "scores = pd.Series ([45,23,90,23,12,45])"
   ]
  },
  {
   "cell_type": "code",
   "execution_count": 24,
   "id": "1e925327-9981-47c6-b258-45941d341ea8",
   "metadata": {},
   "outputs": [
    {
     "data": {
      "text/plain": [
       "0     Loveth\n",
       "1       Onyi\n",
       "2     Fisayo\n",
       "3      Debby\n",
       "4      Hamad\n",
       "5    Fidelis\n",
       "dtype: object"
      ]
     },
     "execution_count": 24,
     "metadata": {},
     "output_type": "execute_result"
    }
   ],
   "source": [
    "student"
   ]
  },
  {
   "cell_type": "code",
   "execution_count": 25,
   "id": "0e0443b1-17fc-496b-abdf-2677df22ac5a",
   "metadata": {},
   "outputs": [
    {
     "data": {
      "text/plain": [
       "0    45\n",
       "1    23\n",
       "2    90\n",
       "3    23\n",
       "4    12\n",
       "5    45\n",
       "dtype: int64"
      ]
     },
     "execution_count": 25,
     "metadata": {},
     "output_type": "execute_result"
    }
   ],
   "source": [
    "scores"
   ]
  },
  {
   "cell_type": "code",
   "execution_count": 26,
   "id": "7bc76cef-34e8-4c5e-b524-6e9736f61cbb",
   "metadata": {},
   "outputs": [],
   "source": [
    "data = pd.DataFrame({'student':student, 'scores':scores})"
   ]
  },
  {
   "cell_type": "code",
   "execution_count": 27,
   "id": "adcf61b4-75fc-4b94-9da5-8e7b4ced0b7c",
   "metadata": {},
   "outputs": [
    {
     "data": {
      "text/html": [
       "<div>\n",
       "<style scoped>\n",
       "    .dataframe tbody tr th:only-of-type {\n",
       "        vertical-align: middle;\n",
       "    }\n",
       "\n",
       "    .dataframe tbody tr th {\n",
       "        vertical-align: top;\n",
       "    }\n",
       "\n",
       "    .dataframe thead th {\n",
       "        text-align: right;\n",
       "    }\n",
       "</style>\n",
       "<table border=\"1\" class=\"dataframe\">\n",
       "  <thead>\n",
       "    <tr style=\"text-align: right;\">\n",
       "      <th></th>\n",
       "      <th>student</th>\n",
       "      <th>scores</th>\n",
       "    </tr>\n",
       "  </thead>\n",
       "  <tbody>\n",
       "    <tr>\n",
       "      <th>0</th>\n",
       "      <td>Loveth</td>\n",
       "      <td>45</td>\n",
       "    </tr>\n",
       "    <tr>\n",
       "      <th>1</th>\n",
       "      <td>Onyi</td>\n",
       "      <td>23</td>\n",
       "    </tr>\n",
       "    <tr>\n",
       "      <th>2</th>\n",
       "      <td>Fisayo</td>\n",
       "      <td>90</td>\n",
       "    </tr>\n",
       "    <tr>\n",
       "      <th>3</th>\n",
       "      <td>Debby</td>\n",
       "      <td>23</td>\n",
       "    </tr>\n",
       "    <tr>\n",
       "      <th>4</th>\n",
       "      <td>Hamad</td>\n",
       "      <td>12</td>\n",
       "    </tr>\n",
       "    <tr>\n",
       "      <th>5</th>\n",
       "      <td>Fidelis</td>\n",
       "      <td>45</td>\n",
       "    </tr>\n",
       "  </tbody>\n",
       "</table>\n",
       "</div>"
      ],
      "text/plain": [
       "   student  scores\n",
       "0   Loveth      45\n",
       "1     Onyi      23\n",
       "2   Fisayo      90\n",
       "3    Debby      23\n",
       "4    Hamad      12\n",
       "5  Fidelis      45"
      ]
     },
     "execution_count": 27,
     "metadata": {},
     "output_type": "execute_result"
    }
   ],
   "source": [
    "data"
   ]
  },
  {
   "cell_type": "markdown",
   "id": "25576be4-8bba-440d-93c1-56351b70fd59",
   "metadata": {},
   "source": [
    "# Working with real world data"
   ]
  },
  {
   "cell_type": "code",
   "execution_count": 33,
   "id": "a49cdfe6-57c0-4e5f-868d-8fa549f0828a",
   "metadata": {},
   "outputs": [],
   "source": [
    "### 1. Read the data\n",
    "\n",
    "df = pd.read_csv('Data_Sheet_Udemy_Courses_-_Music_Courses - Data_Sheet_Udemy_Courses_-_Music_Courses.csv')"
   ]
  },
  {
   "cell_type": "code",
   "execution_count": 34,
   "id": "22181621-21f2-4af0-8eb0-9cf14a5d0e30",
   "metadata": {},
   "outputs": [
    {
     "data": {
      "text/html": [
       "<div>\n",
       "<style scoped>\n",
       "    .dataframe tbody tr th:only-of-type {\n",
       "        vertical-align: middle;\n",
       "    }\n",
       "\n",
       "    .dataframe tbody tr th {\n",
       "        vertical-align: top;\n",
       "    }\n",
       "\n",
       "    .dataframe thead th {\n",
       "        text-align: right;\n",
       "    }\n",
       "</style>\n",
       "<table border=\"1\" class=\"dataframe\">\n",
       "  <thead>\n",
       "    <tr style=\"text-align: right;\">\n",
       "      <th></th>\n",
       "      <th>course_id</th>\n",
       "      <th>course_title</th>\n",
       "      <th>url</th>\n",
       "      <th>price</th>\n",
       "      <th>num_subscribers</th>\n",
       "      <th>num_reviews</th>\n",
       "      <th>num_lectures</th>\n",
       "      <th>level</th>\n",
       "      <th>Rating</th>\n",
       "      <th>content_duration</th>\n",
       "      <th>published_timestamp</th>\n",
       "      <th>subject</th>\n",
       "    </tr>\n",
       "  </thead>\n",
       "  <tbody>\n",
       "    <tr>\n",
       "      <th>0</th>\n",
       "      <td>19421</td>\n",
       "      <td>Free Beginner Electric Guitar Lessons</td>\n",
       "      <td>https://www.udemy.com/beginner-electric-guitar...</td>\n",
       "      <td>0</td>\n",
       "      <td>101154</td>\n",
       "      <td>1042</td>\n",
       "      <td>95</td>\n",
       "      <td>All Levels</td>\n",
       "      <td>0.88</td>\n",
       "      <td>4.500000</td>\n",
       "      <td>2012-06-15T17:00:33Z</td>\n",
       "      <td>Musical Instruments</td>\n",
       "    </tr>\n",
       "    <tr>\n",
       "      <th>1</th>\n",
       "      <td>238934</td>\n",
       "      <td>Pianoforall - Incredible New Way To Learn Pian...</td>\n",
       "      <td>https://www.udemy.com/pianoforall-incredible-n...</td>\n",
       "      <td>200</td>\n",
       "      <td>75499</td>\n",
       "      <td>7676</td>\n",
       "      <td>362</td>\n",
       "      <td>Beginner Level</td>\n",
       "      <td>0.96</td>\n",
       "      <td>30.000000</td>\n",
       "      <td>2014-08-07T06:27:51Z</td>\n",
       "      <td>Musical Instruments</td>\n",
       "    </tr>\n",
       "    <tr>\n",
       "      <th>2</th>\n",
       "      <td>41884</td>\n",
       "      <td>Getting Started with Playing Guitar</td>\n",
       "      <td>https://www.udemy.com/getting-started-with-pla...</td>\n",
       "      <td>0</td>\n",
       "      <td>47652</td>\n",
       "      <td>1141</td>\n",
       "      <td>26</td>\n",
       "      <td>All Levels</td>\n",
       "      <td>0.68</td>\n",
       "      <td>4.000000</td>\n",
       "      <td>2013-05-29T15:28:07Z</td>\n",
       "      <td>Musical Instruments</td>\n",
       "    </tr>\n",
       "    <tr>\n",
       "      <th>3</th>\n",
       "      <td>42271</td>\n",
       "      <td>Complete Guitar System - Beginner to Advanced</td>\n",
       "      <td>https://www.udemy.com/complete-guitar-system-b...</td>\n",
       "      <td>145</td>\n",
       "      <td>32935</td>\n",
       "      <td>2713</td>\n",
       "      <td>310</td>\n",
       "      <td>All Levels</td>\n",
       "      <td>0.65</td>\n",
       "      <td>34.000000</td>\n",
       "      <td>2013-05-29T15:24:47Z</td>\n",
       "      <td>Musical Instruments</td>\n",
       "    </tr>\n",
       "    <tr>\n",
       "      <th>4</th>\n",
       "      <td>26956</td>\n",
       "      <td>Learn Guitar in 21 Days</td>\n",
       "      <td>https://www.udemy.com/learn-guitar-in-21-days/</td>\n",
       "      <td>20</td>\n",
       "      <td>26504</td>\n",
       "      <td>192</td>\n",
       "      <td>82</td>\n",
       "      <td>All Levels</td>\n",
       "      <td>0.41</td>\n",
       "      <td>2.500000</td>\n",
       "      <td>2012-10-21T20:36:50Z</td>\n",
       "      <td>Musical Instruments</td>\n",
       "    </tr>\n",
       "    <tr>\n",
       "      <th>...</th>\n",
       "      <td>...</td>\n",
       "      <td>...</td>\n",
       "      <td>...</td>\n",
       "      <td>...</td>\n",
       "      <td>...</td>\n",
       "      <td>...</td>\n",
       "      <td>...</td>\n",
       "      <td>...</td>\n",
       "      <td>...</td>\n",
       "      <td>...</td>\n",
       "      <td>...</td>\n",
       "      <td>...</td>\n",
       "    </tr>\n",
       "    <tr>\n",
       "      <th>675</th>\n",
       "      <td>1216340</td>\n",
       "      <td>Learn to Play Sweet Child of Mine</td>\n",
       "      <td>https://www.udemy.com/learn-to-play-sweet-chil...</td>\n",
       "      <td>20</td>\n",
       "      <td>0</td>\n",
       "      <td>0</td>\n",
       "      <td>23</td>\n",
       "      <td>All Levels</td>\n",
       "      <td>0.31</td>\n",
       "      <td>1.500000</td>\n",
       "      <td>2017-06-30T17:33:29Z</td>\n",
       "      <td>Musical Instruments</td>\n",
       "    </tr>\n",
       "    <tr>\n",
       "      <th>676</th>\n",
       "      <td>1026762</td>\n",
       "      <td>Coaching Course: Rhythm Instruction for Music ...</td>\n",
       "      <td>https://www.udemy.com/coaching-bundle-rhythm-i...</td>\n",
       "      <td>125</td>\n",
       "      <td>0</td>\n",
       "      <td>0</td>\n",
       "      <td>7</td>\n",
       "      <td>Beginner Level</td>\n",
       "      <td>0.06</td>\n",
       "      <td>0.633333</td>\n",
       "      <td>2017-03-10T17:06:46Z</td>\n",
       "      <td>Musical Instruments</td>\n",
       "    </tr>\n",
       "    <tr>\n",
       "      <th>677</th>\n",
       "      <td>1223240</td>\n",
       "      <td>Learn Pirates of the Caribbean by Ear on the P...</td>\n",
       "      <td>https://www.udemy.com/learn-pirates-of-the-car...</td>\n",
       "      <td>20</td>\n",
       "      <td>0</td>\n",
       "      <td>0</td>\n",
       "      <td>6</td>\n",
       "      <td>All Levels</td>\n",
       "      <td>0.08</td>\n",
       "      <td>0.533333</td>\n",
       "      <td>2017-05-22T17:14:43Z</td>\n",
       "      <td>Musical Instruments</td>\n",
       "    </tr>\n",
       "    <tr>\n",
       "      <th>678</th>\n",
       "      <td>1224186</td>\n",
       "      <td>Learn to Play Piano Like a Pro - Easy Piano Co...</td>\n",
       "      <td>https://www.udemy.com/learn-to-play-piano-like...</td>\n",
       "      <td>35</td>\n",
       "      <td>0</td>\n",
       "      <td>0</td>\n",
       "      <td>13</td>\n",
       "      <td>Beginner Level</td>\n",
       "      <td>0.78</td>\n",
       "      <td>0.516667</td>\n",
       "      <td>2017-05-30T00:19:02Z</td>\n",
       "      <td>Musical Instruments</td>\n",
       "    </tr>\n",
       "    <tr>\n",
       "      <th>679</th>\n",
       "      <td>1234656</td>\n",
       "      <td>4 Week Rhythm Mastery</td>\n",
       "      <td>https://www.udemy.com/4-week-rhythm-mastery/</td>\n",
       "      <td>20</td>\n",
       "      <td>0</td>\n",
       "      <td>0</td>\n",
       "      <td>28</td>\n",
       "      <td>All Levels</td>\n",
       "      <td>0.01</td>\n",
       "      <td>2.500000</td>\n",
       "      <td>2017-07-05T16:07:44Z</td>\n",
       "      <td>Musical Instruments</td>\n",
       "    </tr>\n",
       "  </tbody>\n",
       "</table>\n",
       "<p>680 rows × 12 columns</p>\n",
       "</div>"
      ],
      "text/plain": [
       "     course_id                                       course_title  \\\n",
       "0        19421              Free Beginner Electric Guitar Lessons   \n",
       "1       238934  Pianoforall - Incredible New Way To Learn Pian...   \n",
       "2        41884                Getting Started with Playing Guitar   \n",
       "3        42271      Complete Guitar System - Beginner to Advanced   \n",
       "4        26956                            Learn Guitar in 21 Days   \n",
       "..         ...                                                ...   \n",
       "675    1216340                  Learn to Play Sweet Child of Mine   \n",
       "676    1026762  Coaching Course: Rhythm Instruction for Music ...   \n",
       "677    1223240  Learn Pirates of the Caribbean by Ear on the P...   \n",
       "678    1224186  Learn to Play Piano Like a Pro - Easy Piano Co...   \n",
       "679    1234656                              4 Week Rhythm Mastery   \n",
       "\n",
       "                                                   url  price  \\\n",
       "0    https://www.udemy.com/beginner-electric-guitar...      0   \n",
       "1    https://www.udemy.com/pianoforall-incredible-n...    200   \n",
       "2    https://www.udemy.com/getting-started-with-pla...      0   \n",
       "3    https://www.udemy.com/complete-guitar-system-b...    145   \n",
       "4       https://www.udemy.com/learn-guitar-in-21-days/     20   \n",
       "..                                                 ...    ...   \n",
       "675  https://www.udemy.com/learn-to-play-sweet-chil...     20   \n",
       "676  https://www.udemy.com/coaching-bundle-rhythm-i...    125   \n",
       "677  https://www.udemy.com/learn-pirates-of-the-car...     20   \n",
       "678  https://www.udemy.com/learn-to-play-piano-like...     35   \n",
       "679       https://www.udemy.com/4-week-rhythm-mastery/     20   \n",
       "\n",
       "     num_subscribers  num_reviews  num_lectures           level  Rating  \\\n",
       "0             101154         1042            95      All Levels    0.88   \n",
       "1              75499         7676           362  Beginner Level    0.96   \n",
       "2              47652         1141            26      All Levels    0.68   \n",
       "3              32935         2713           310      All Levels    0.65   \n",
       "4              26504          192            82      All Levels    0.41   \n",
       "..               ...          ...           ...             ...     ...   \n",
       "675                0            0            23      All Levels    0.31   \n",
       "676                0            0             7  Beginner Level    0.06   \n",
       "677                0            0             6      All Levels    0.08   \n",
       "678                0            0            13  Beginner Level    0.78   \n",
       "679                0            0            28      All Levels    0.01   \n",
       "\n",
       "     content_duration   published_timestamp              subject  \n",
       "0            4.500000  2012-06-15T17:00:33Z  Musical Instruments  \n",
       "1           30.000000  2014-08-07T06:27:51Z  Musical Instruments  \n",
       "2            4.000000  2013-05-29T15:28:07Z  Musical Instruments  \n",
       "3           34.000000  2013-05-29T15:24:47Z  Musical Instruments  \n",
       "4            2.500000  2012-10-21T20:36:50Z  Musical Instruments  \n",
       "..                ...                   ...                  ...  \n",
       "675          1.500000  2017-06-30T17:33:29Z  Musical Instruments  \n",
       "676          0.633333  2017-03-10T17:06:46Z  Musical Instruments  \n",
       "677          0.533333  2017-05-22T17:14:43Z  Musical Instruments  \n",
       "678          0.516667  2017-05-30T00:19:02Z  Musical Instruments  \n",
       "679          2.500000  2017-07-05T16:07:44Z  Musical Instruments  \n",
       "\n",
       "[680 rows x 12 columns]"
      ]
     },
     "execution_count": 34,
     "metadata": {},
     "output_type": "execute_result"
    }
   ],
   "source": [
    "df"
   ]
  },
  {
   "cell_type": "markdown",
   "id": "cef37ef0-924d-483a-b46e-d1136807896e",
   "metadata": {},
   "source": [
    "# We want to convert a data from an excel datasource to pandas. We will use pandas library."
   ]
  },
  {
   "cell_type": "code",
   "execution_count": 37,
   "id": "e370f511-e0f5-4d4c-8c14-c498ccf88fb2",
   "metadata": {},
   "outputs": [],
   "source": [
    "df2 = pd.read_excel('Data_Sheet_Udemy_Courses_-_Music_Courses - Data_Sheet_Udemy_Courses_-_Music_Courses.xlsx')"
   ]
  },
  {
   "cell_type": "code",
   "execution_count": 38,
   "id": "3bb14738-e9a2-4a10-b61f-8fd993d94fbc",
   "metadata": {},
   "outputs": [
    {
     "data": {
      "text/html": [
       "<div>\n",
       "<style scoped>\n",
       "    .dataframe tbody tr th:only-of-type {\n",
       "        vertical-align: middle;\n",
       "    }\n",
       "\n",
       "    .dataframe tbody tr th {\n",
       "        vertical-align: top;\n",
       "    }\n",
       "\n",
       "    .dataframe thead th {\n",
       "        text-align: right;\n",
       "    }\n",
       "</style>\n",
       "<table border=\"1\" class=\"dataframe\">\n",
       "  <thead>\n",
       "    <tr style=\"text-align: right;\">\n",
       "      <th></th>\n",
       "      <th>course_id</th>\n",
       "      <th>course_title</th>\n",
       "      <th>url</th>\n",
       "      <th>price</th>\n",
       "      <th>num_subscribers</th>\n",
       "      <th>num_reviews</th>\n",
       "      <th>num_lectures</th>\n",
       "      <th>level</th>\n",
       "      <th>Rating</th>\n",
       "      <th>content_duration</th>\n",
       "      <th>published_timestamp</th>\n",
       "      <th>subject</th>\n",
       "    </tr>\n",
       "  </thead>\n",
       "  <tbody>\n",
       "    <tr>\n",
       "      <th>0</th>\n",
       "      <td>19421</td>\n",
       "      <td>Free Beginner Electric Guitar Lessons</td>\n",
       "      <td>https://www.udemy.com/beginner-electric-guitar...</td>\n",
       "      <td>0</td>\n",
       "      <td>101154</td>\n",
       "      <td>1042</td>\n",
       "      <td>95</td>\n",
       "      <td>All Levels</td>\n",
       "      <td>0.88</td>\n",
       "      <td>4.500000</td>\n",
       "      <td>2012-06-15T17:00:33Z</td>\n",
       "      <td>Musical Instruments</td>\n",
       "    </tr>\n",
       "    <tr>\n",
       "      <th>1</th>\n",
       "      <td>238934</td>\n",
       "      <td>Pianoforall - Incredible New Way To Learn Pian...</td>\n",
       "      <td>https://www.udemy.com/pianoforall-incredible-n...</td>\n",
       "      <td>200</td>\n",
       "      <td>75499</td>\n",
       "      <td>7676</td>\n",
       "      <td>362</td>\n",
       "      <td>Beginner Level</td>\n",
       "      <td>0.96</td>\n",
       "      <td>30.000000</td>\n",
       "      <td>2014-08-07T06:27:51Z</td>\n",
       "      <td>Musical Instruments</td>\n",
       "    </tr>\n",
       "    <tr>\n",
       "      <th>2</th>\n",
       "      <td>41884</td>\n",
       "      <td>Getting Started with Playing Guitar</td>\n",
       "      <td>https://www.udemy.com/getting-started-with-pla...</td>\n",
       "      <td>0</td>\n",
       "      <td>47652</td>\n",
       "      <td>1141</td>\n",
       "      <td>26</td>\n",
       "      <td>All Levels</td>\n",
       "      <td>0.68</td>\n",
       "      <td>4.000000</td>\n",
       "      <td>2013-05-29T15:28:07Z</td>\n",
       "      <td>Musical Instruments</td>\n",
       "    </tr>\n",
       "    <tr>\n",
       "      <th>3</th>\n",
       "      <td>42271</td>\n",
       "      <td>Complete Guitar System - Beginner to Advanced</td>\n",
       "      <td>https://www.udemy.com/complete-guitar-system-b...</td>\n",
       "      <td>145</td>\n",
       "      <td>32935</td>\n",
       "      <td>2713</td>\n",
       "      <td>310</td>\n",
       "      <td>All Levels</td>\n",
       "      <td>0.65</td>\n",
       "      <td>34.000000</td>\n",
       "      <td>2013-05-29T15:24:47Z</td>\n",
       "      <td>Musical Instruments</td>\n",
       "    </tr>\n",
       "    <tr>\n",
       "      <th>4</th>\n",
       "      <td>26956</td>\n",
       "      <td>Learn Guitar in 21 Days</td>\n",
       "      <td>https://www.udemy.com/learn-guitar-in-21-days/</td>\n",
       "      <td>20</td>\n",
       "      <td>26504</td>\n",
       "      <td>192</td>\n",
       "      <td>82</td>\n",
       "      <td>All Levels</td>\n",
       "      <td>0.41</td>\n",
       "      <td>2.500000</td>\n",
       "      <td>2012-10-21T20:36:50Z</td>\n",
       "      <td>Musical Instruments</td>\n",
       "    </tr>\n",
       "    <tr>\n",
       "      <th>...</th>\n",
       "      <td>...</td>\n",
       "      <td>...</td>\n",
       "      <td>...</td>\n",
       "      <td>...</td>\n",
       "      <td>...</td>\n",
       "      <td>...</td>\n",
       "      <td>...</td>\n",
       "      <td>...</td>\n",
       "      <td>...</td>\n",
       "      <td>...</td>\n",
       "      <td>...</td>\n",
       "      <td>...</td>\n",
       "    </tr>\n",
       "    <tr>\n",
       "      <th>675</th>\n",
       "      <td>1216340</td>\n",
       "      <td>Learn to Play Sweet Child of Mine</td>\n",
       "      <td>https://www.udemy.com/learn-to-play-sweet-chil...</td>\n",
       "      <td>20</td>\n",
       "      <td>0</td>\n",
       "      <td>0</td>\n",
       "      <td>23</td>\n",
       "      <td>All Levels</td>\n",
       "      <td>0.31</td>\n",
       "      <td>1.500000</td>\n",
       "      <td>2017-06-30T17:33:29Z</td>\n",
       "      <td>Musical Instruments</td>\n",
       "    </tr>\n",
       "    <tr>\n",
       "      <th>676</th>\n",
       "      <td>1026762</td>\n",
       "      <td>Coaching Course: Rhythm Instruction for Music ...</td>\n",
       "      <td>https://www.udemy.com/coaching-bundle-rhythm-i...</td>\n",
       "      <td>125</td>\n",
       "      <td>0</td>\n",
       "      <td>0</td>\n",
       "      <td>7</td>\n",
       "      <td>Beginner Level</td>\n",
       "      <td>0.06</td>\n",
       "      <td>0.633333</td>\n",
       "      <td>2017-03-10T17:06:46Z</td>\n",
       "      <td>Musical Instruments</td>\n",
       "    </tr>\n",
       "    <tr>\n",
       "      <th>677</th>\n",
       "      <td>1223240</td>\n",
       "      <td>Learn Pirates of the Caribbean by Ear on the P...</td>\n",
       "      <td>https://www.udemy.com/learn-pirates-of-the-car...</td>\n",
       "      <td>20</td>\n",
       "      <td>0</td>\n",
       "      <td>0</td>\n",
       "      <td>6</td>\n",
       "      <td>All Levels</td>\n",
       "      <td>0.08</td>\n",
       "      <td>0.533333</td>\n",
       "      <td>2017-05-22T17:14:43Z</td>\n",
       "      <td>Musical Instruments</td>\n",
       "    </tr>\n",
       "    <tr>\n",
       "      <th>678</th>\n",
       "      <td>1224186</td>\n",
       "      <td>Learn to Play Piano Like a Pro - Easy Piano Co...</td>\n",
       "      <td>https://www.udemy.com/learn-to-play-piano-like...</td>\n",
       "      <td>35</td>\n",
       "      <td>0</td>\n",
       "      <td>0</td>\n",
       "      <td>13</td>\n",
       "      <td>Beginner Level</td>\n",
       "      <td>0.78</td>\n",
       "      <td>0.516667</td>\n",
       "      <td>2017-05-30T00:19:02Z</td>\n",
       "      <td>Musical Instruments</td>\n",
       "    </tr>\n",
       "    <tr>\n",
       "      <th>679</th>\n",
       "      <td>1234656</td>\n",
       "      <td>4 Week Rhythm Mastery</td>\n",
       "      <td>https://www.udemy.com/4-week-rhythm-mastery/</td>\n",
       "      <td>20</td>\n",
       "      <td>0</td>\n",
       "      <td>0</td>\n",
       "      <td>28</td>\n",
       "      <td>All Levels</td>\n",
       "      <td>0.01</td>\n",
       "      <td>2.500000</td>\n",
       "      <td>2017-07-05T16:07:44Z</td>\n",
       "      <td>Musical Instruments</td>\n",
       "    </tr>\n",
       "  </tbody>\n",
       "</table>\n",
       "<p>680 rows × 12 columns</p>\n",
       "</div>"
      ],
      "text/plain": [
       "     course_id                                       course_title  \\\n",
       "0        19421              Free Beginner Electric Guitar Lessons   \n",
       "1       238934  Pianoforall - Incredible New Way To Learn Pian...   \n",
       "2        41884                Getting Started with Playing Guitar   \n",
       "3        42271      Complete Guitar System - Beginner to Advanced   \n",
       "4        26956                            Learn Guitar in 21 Days   \n",
       "..         ...                                                ...   \n",
       "675    1216340                  Learn to Play Sweet Child of Mine   \n",
       "676    1026762  Coaching Course: Rhythm Instruction for Music ...   \n",
       "677    1223240  Learn Pirates of the Caribbean by Ear on the P...   \n",
       "678    1224186  Learn to Play Piano Like a Pro - Easy Piano Co...   \n",
       "679    1234656                              4 Week Rhythm Mastery   \n",
       "\n",
       "                                                   url  price  \\\n",
       "0    https://www.udemy.com/beginner-electric-guitar...      0   \n",
       "1    https://www.udemy.com/pianoforall-incredible-n...    200   \n",
       "2    https://www.udemy.com/getting-started-with-pla...      0   \n",
       "3    https://www.udemy.com/complete-guitar-system-b...    145   \n",
       "4       https://www.udemy.com/learn-guitar-in-21-days/     20   \n",
       "..                                                 ...    ...   \n",
       "675  https://www.udemy.com/learn-to-play-sweet-chil...     20   \n",
       "676  https://www.udemy.com/coaching-bundle-rhythm-i...    125   \n",
       "677  https://www.udemy.com/learn-pirates-of-the-car...     20   \n",
       "678  https://www.udemy.com/learn-to-play-piano-like...     35   \n",
       "679       https://www.udemy.com/4-week-rhythm-mastery/     20   \n",
       "\n",
       "     num_subscribers  num_reviews  num_lectures           level  Rating  \\\n",
       "0             101154         1042            95      All Levels    0.88   \n",
       "1              75499         7676           362  Beginner Level    0.96   \n",
       "2              47652         1141            26      All Levels    0.68   \n",
       "3              32935         2713           310      All Levels    0.65   \n",
       "4              26504          192            82      All Levels    0.41   \n",
       "..               ...          ...           ...             ...     ...   \n",
       "675                0            0            23      All Levels    0.31   \n",
       "676                0            0             7  Beginner Level    0.06   \n",
       "677                0            0             6      All Levels    0.08   \n",
       "678                0            0            13  Beginner Level    0.78   \n",
       "679                0            0            28      All Levels    0.01   \n",
       "\n",
       "     content_duration   published_timestamp              subject  \n",
       "0            4.500000  2012-06-15T17:00:33Z  Musical Instruments  \n",
       "1           30.000000  2014-08-07T06:27:51Z  Musical Instruments  \n",
       "2            4.000000  2013-05-29T15:28:07Z  Musical Instruments  \n",
       "3           34.000000  2013-05-29T15:24:47Z  Musical Instruments  \n",
       "4            2.500000  2012-10-21T20:36:50Z  Musical Instruments  \n",
       "..                ...                   ...                  ...  \n",
       "675          1.500000  2017-06-30T17:33:29Z  Musical Instruments  \n",
       "676          0.633333  2017-03-10T17:06:46Z  Musical Instruments  \n",
       "677          0.533333  2017-05-22T17:14:43Z  Musical Instruments  \n",
       "678          0.516667  2017-05-30T00:19:02Z  Musical Instruments  \n",
       "679          2.500000  2017-07-05T16:07:44Z  Musical Instruments  \n",
       "\n",
       "[680 rows x 12 columns]"
      ]
     },
     "execution_count": 38,
     "metadata": {},
     "output_type": "execute_result"
    }
   ],
   "source": [
    "df2"
   ]
  },
  {
   "cell_type": "code",
   "execution_count": 39,
   "id": "3d3d35e4-4fbc-4d63-8dcd-27265fcebd66",
   "metadata": {},
   "outputs": [
    {
     "data": {
      "text/html": [
       "<div>\n",
       "<style scoped>\n",
       "    .dataframe tbody tr th:only-of-type {\n",
       "        vertical-align: middle;\n",
       "    }\n",
       "\n",
       "    .dataframe tbody tr th {\n",
       "        vertical-align: top;\n",
       "    }\n",
       "\n",
       "    .dataframe thead th {\n",
       "        text-align: right;\n",
       "    }\n",
       "</style>\n",
       "<table border=\"1\" class=\"dataframe\">\n",
       "  <thead>\n",
       "    <tr style=\"text-align: right;\">\n",
       "      <th></th>\n",
       "      <th>course_id</th>\n",
       "      <th>course_title</th>\n",
       "      <th>url</th>\n",
       "      <th>price</th>\n",
       "      <th>num_subscribers</th>\n",
       "      <th>num_reviews</th>\n",
       "      <th>num_lectures</th>\n",
       "      <th>level</th>\n",
       "      <th>Rating</th>\n",
       "      <th>content_duration</th>\n",
       "      <th>published_timestamp</th>\n",
       "      <th>subject</th>\n",
       "    </tr>\n",
       "  </thead>\n",
       "  <tbody>\n",
       "    <tr>\n",
       "      <th>0</th>\n",
       "      <td>19421</td>\n",
       "      <td>Free Beginner Electric Guitar Lessons</td>\n",
       "      <td>https://www.udemy.com/beginner-electric-guitar...</td>\n",
       "      <td>0</td>\n",
       "      <td>101154</td>\n",
       "      <td>1042</td>\n",
       "      <td>95</td>\n",
       "      <td>All Levels</td>\n",
       "      <td>0.88</td>\n",
       "      <td>4.5</td>\n",
       "      <td>2012-06-15T17:00:33Z</td>\n",
       "      <td>Musical Instruments</td>\n",
       "    </tr>\n",
       "    <tr>\n",
       "      <th>1</th>\n",
       "      <td>238934</td>\n",
       "      <td>Pianoforall - Incredible New Way To Learn Pian...</td>\n",
       "      <td>https://www.udemy.com/pianoforall-incredible-n...</td>\n",
       "      <td>200</td>\n",
       "      <td>75499</td>\n",
       "      <td>7676</td>\n",
       "      <td>362</td>\n",
       "      <td>Beginner Level</td>\n",
       "      <td>0.96</td>\n",
       "      <td>30.0</td>\n",
       "      <td>2014-08-07T06:27:51Z</td>\n",
       "      <td>Musical Instruments</td>\n",
       "    </tr>\n",
       "    <tr>\n",
       "      <th>2</th>\n",
       "      <td>41884</td>\n",
       "      <td>Getting Started with Playing Guitar</td>\n",
       "      <td>https://www.udemy.com/getting-started-with-pla...</td>\n",
       "      <td>0</td>\n",
       "      <td>47652</td>\n",
       "      <td>1141</td>\n",
       "      <td>26</td>\n",
       "      <td>All Levels</td>\n",
       "      <td>0.68</td>\n",
       "      <td>4.0</td>\n",
       "      <td>2013-05-29T15:28:07Z</td>\n",
       "      <td>Musical Instruments</td>\n",
       "    </tr>\n",
       "    <tr>\n",
       "      <th>3</th>\n",
       "      <td>42271</td>\n",
       "      <td>Complete Guitar System - Beginner to Advanced</td>\n",
       "      <td>https://www.udemy.com/complete-guitar-system-b...</td>\n",
       "      <td>145</td>\n",
       "      <td>32935</td>\n",
       "      <td>2713</td>\n",
       "      <td>310</td>\n",
       "      <td>All Levels</td>\n",
       "      <td>0.65</td>\n",
       "      <td>34.0</td>\n",
       "      <td>2013-05-29T15:24:47Z</td>\n",
       "      <td>Musical Instruments</td>\n",
       "    </tr>\n",
       "    <tr>\n",
       "      <th>4</th>\n",
       "      <td>26956</td>\n",
       "      <td>Learn Guitar in 21 Days</td>\n",
       "      <td>https://www.udemy.com/learn-guitar-in-21-days/</td>\n",
       "      <td>20</td>\n",
       "      <td>26504</td>\n",
       "      <td>192</td>\n",
       "      <td>82</td>\n",
       "      <td>All Levels</td>\n",
       "      <td>0.41</td>\n",
       "      <td>2.5</td>\n",
       "      <td>2012-10-21T20:36:50Z</td>\n",
       "      <td>Musical Instruments</td>\n",
       "    </tr>\n",
       "  </tbody>\n",
       "</table>\n",
       "</div>"
      ],
      "text/plain": [
       "   course_id                                       course_title  \\\n",
       "0      19421              Free Beginner Electric Guitar Lessons   \n",
       "1     238934  Pianoforall - Incredible New Way To Learn Pian...   \n",
       "2      41884                Getting Started with Playing Guitar   \n",
       "3      42271      Complete Guitar System - Beginner to Advanced   \n",
       "4      26956                            Learn Guitar in 21 Days   \n",
       "\n",
       "                                                 url  price  num_subscribers  \\\n",
       "0  https://www.udemy.com/beginner-electric-guitar...      0           101154   \n",
       "1  https://www.udemy.com/pianoforall-incredible-n...    200            75499   \n",
       "2  https://www.udemy.com/getting-started-with-pla...      0            47652   \n",
       "3  https://www.udemy.com/complete-guitar-system-b...    145            32935   \n",
       "4     https://www.udemy.com/learn-guitar-in-21-days/     20            26504   \n",
       "\n",
       "   num_reviews  num_lectures           level  Rating  content_duration  \\\n",
       "0         1042            95      All Levels    0.88               4.5   \n",
       "1         7676           362  Beginner Level    0.96              30.0   \n",
       "2         1141            26      All Levels    0.68               4.0   \n",
       "3         2713           310      All Levels    0.65              34.0   \n",
       "4          192            82      All Levels    0.41               2.5   \n",
       "\n",
       "    published_timestamp              subject  \n",
       "0  2012-06-15T17:00:33Z  Musical Instruments  \n",
       "1  2014-08-07T06:27:51Z  Musical Instruments  \n",
       "2  2013-05-29T15:28:07Z  Musical Instruments  \n",
       "3  2013-05-29T15:24:47Z  Musical Instruments  \n",
       "4  2012-10-21T20:36:50Z  Musical Instruments  "
      ]
     },
     "execution_count": 39,
     "metadata": {},
     "output_type": "execute_result"
    }
   ],
   "source": [
    "df.head()"
   ]
  },
  {
   "cell_type": "code",
   "execution_count": 40,
   "id": "9276d900-c08e-4dc7-8c42-a77ff5e779d0",
   "metadata": {},
   "outputs": [
    {
     "data": {
      "text/html": [
       "<div>\n",
       "<style scoped>\n",
       "    .dataframe tbody tr th:only-of-type {\n",
       "        vertical-align: middle;\n",
       "    }\n",
       "\n",
       "    .dataframe tbody tr th {\n",
       "        vertical-align: top;\n",
       "    }\n",
       "\n",
       "    .dataframe thead th {\n",
       "        text-align: right;\n",
       "    }\n",
       "</style>\n",
       "<table border=\"1\" class=\"dataframe\">\n",
       "  <thead>\n",
       "    <tr style=\"text-align: right;\">\n",
       "      <th></th>\n",
       "      <th>course_id</th>\n",
       "      <th>course_title</th>\n",
       "      <th>url</th>\n",
       "      <th>price</th>\n",
       "      <th>num_subscribers</th>\n",
       "      <th>num_reviews</th>\n",
       "      <th>num_lectures</th>\n",
       "      <th>level</th>\n",
       "      <th>Rating</th>\n",
       "      <th>content_duration</th>\n",
       "      <th>published_timestamp</th>\n",
       "      <th>subject</th>\n",
       "    </tr>\n",
       "  </thead>\n",
       "  <tbody>\n",
       "    <tr>\n",
       "      <th>0</th>\n",
       "      <td>19421</td>\n",
       "      <td>Free Beginner Electric Guitar Lessons</td>\n",
       "      <td>https://www.udemy.com/beginner-electric-guitar...</td>\n",
       "      <td>0</td>\n",
       "      <td>101154</td>\n",
       "      <td>1042</td>\n",
       "      <td>95</td>\n",
       "      <td>All Levels</td>\n",
       "      <td>0.88</td>\n",
       "      <td>4.5</td>\n",
       "      <td>2012-06-15T17:00:33Z</td>\n",
       "      <td>Musical Instruments</td>\n",
       "    </tr>\n",
       "    <tr>\n",
       "      <th>1</th>\n",
       "      <td>238934</td>\n",
       "      <td>Pianoforall - Incredible New Way To Learn Pian...</td>\n",
       "      <td>https://www.udemy.com/pianoforall-incredible-n...</td>\n",
       "      <td>200</td>\n",
       "      <td>75499</td>\n",
       "      <td>7676</td>\n",
       "      <td>362</td>\n",
       "      <td>Beginner Level</td>\n",
       "      <td>0.96</td>\n",
       "      <td>30.0</td>\n",
       "      <td>2014-08-07T06:27:51Z</td>\n",
       "      <td>Musical Instruments</td>\n",
       "    </tr>\n",
       "    <tr>\n",
       "      <th>2</th>\n",
       "      <td>41884</td>\n",
       "      <td>Getting Started with Playing Guitar</td>\n",
       "      <td>https://www.udemy.com/getting-started-with-pla...</td>\n",
       "      <td>0</td>\n",
       "      <td>47652</td>\n",
       "      <td>1141</td>\n",
       "      <td>26</td>\n",
       "      <td>All Levels</td>\n",
       "      <td>0.68</td>\n",
       "      <td>4.0</td>\n",
       "      <td>2013-05-29T15:28:07Z</td>\n",
       "      <td>Musical Instruments</td>\n",
       "    </tr>\n",
       "  </tbody>\n",
       "</table>\n",
       "</div>"
      ],
      "text/plain": [
       "   course_id                                       course_title  \\\n",
       "0      19421              Free Beginner Electric Guitar Lessons   \n",
       "1     238934  Pianoforall - Incredible New Way To Learn Pian...   \n",
       "2      41884                Getting Started with Playing Guitar   \n",
       "\n",
       "                                                 url  price  num_subscribers  \\\n",
       "0  https://www.udemy.com/beginner-electric-guitar...      0           101154   \n",
       "1  https://www.udemy.com/pianoforall-incredible-n...    200            75499   \n",
       "2  https://www.udemy.com/getting-started-with-pla...      0            47652   \n",
       "\n",
       "   num_reviews  num_lectures           level  Rating  content_duration  \\\n",
       "0         1042            95      All Levels    0.88               4.5   \n",
       "1         7676           362  Beginner Level    0.96              30.0   \n",
       "2         1141            26      All Levels    0.68               4.0   \n",
       "\n",
       "    published_timestamp              subject  \n",
       "0  2012-06-15T17:00:33Z  Musical Instruments  \n",
       "1  2014-08-07T06:27:51Z  Musical Instruments  \n",
       "2  2013-05-29T15:28:07Z  Musical Instruments  "
      ]
     },
     "execution_count": 40,
     "metadata": {},
     "output_type": "execute_result"
    }
   ],
   "source": [
    "df.head(3)"
   ]
  },
  {
   "cell_type": "code",
   "execution_count": 41,
   "id": "9716e37c-495d-469e-a7ed-b974cc44a0ea",
   "metadata": {},
   "outputs": [
    {
     "data": {
      "text/html": [
       "<div>\n",
       "<style scoped>\n",
       "    .dataframe tbody tr th:only-of-type {\n",
       "        vertical-align: middle;\n",
       "    }\n",
       "\n",
       "    .dataframe tbody tr th {\n",
       "        vertical-align: top;\n",
       "    }\n",
       "\n",
       "    .dataframe thead th {\n",
       "        text-align: right;\n",
       "    }\n",
       "</style>\n",
       "<table border=\"1\" class=\"dataframe\">\n",
       "  <thead>\n",
       "    <tr style=\"text-align: right;\">\n",
       "      <th></th>\n",
       "      <th>course_id</th>\n",
       "      <th>course_title</th>\n",
       "      <th>url</th>\n",
       "      <th>price</th>\n",
       "      <th>num_subscribers</th>\n",
       "      <th>num_reviews</th>\n",
       "      <th>num_lectures</th>\n",
       "      <th>level</th>\n",
       "      <th>Rating</th>\n",
       "      <th>content_duration</th>\n",
       "      <th>published_timestamp</th>\n",
       "      <th>subject</th>\n",
       "    </tr>\n",
       "  </thead>\n",
       "  <tbody>\n",
       "    <tr>\n",
       "      <th>675</th>\n",
       "      <td>1216340</td>\n",
       "      <td>Learn to Play Sweet Child of Mine</td>\n",
       "      <td>https://www.udemy.com/learn-to-play-sweet-chil...</td>\n",
       "      <td>20</td>\n",
       "      <td>0</td>\n",
       "      <td>0</td>\n",
       "      <td>23</td>\n",
       "      <td>All Levels</td>\n",
       "      <td>0.31</td>\n",
       "      <td>1.500000</td>\n",
       "      <td>2017-06-30T17:33:29Z</td>\n",
       "      <td>Musical Instruments</td>\n",
       "    </tr>\n",
       "    <tr>\n",
       "      <th>676</th>\n",
       "      <td>1026762</td>\n",
       "      <td>Coaching Course: Rhythm Instruction for Music ...</td>\n",
       "      <td>https://www.udemy.com/coaching-bundle-rhythm-i...</td>\n",
       "      <td>125</td>\n",
       "      <td>0</td>\n",
       "      <td>0</td>\n",
       "      <td>7</td>\n",
       "      <td>Beginner Level</td>\n",
       "      <td>0.06</td>\n",
       "      <td>0.633333</td>\n",
       "      <td>2017-03-10T17:06:46Z</td>\n",
       "      <td>Musical Instruments</td>\n",
       "    </tr>\n",
       "    <tr>\n",
       "      <th>677</th>\n",
       "      <td>1223240</td>\n",
       "      <td>Learn Pirates of the Caribbean by Ear on the P...</td>\n",
       "      <td>https://www.udemy.com/learn-pirates-of-the-car...</td>\n",
       "      <td>20</td>\n",
       "      <td>0</td>\n",
       "      <td>0</td>\n",
       "      <td>6</td>\n",
       "      <td>All Levels</td>\n",
       "      <td>0.08</td>\n",
       "      <td>0.533333</td>\n",
       "      <td>2017-05-22T17:14:43Z</td>\n",
       "      <td>Musical Instruments</td>\n",
       "    </tr>\n",
       "    <tr>\n",
       "      <th>678</th>\n",
       "      <td>1224186</td>\n",
       "      <td>Learn to Play Piano Like a Pro - Easy Piano Co...</td>\n",
       "      <td>https://www.udemy.com/learn-to-play-piano-like...</td>\n",
       "      <td>35</td>\n",
       "      <td>0</td>\n",
       "      <td>0</td>\n",
       "      <td>13</td>\n",
       "      <td>Beginner Level</td>\n",
       "      <td>0.78</td>\n",
       "      <td>0.516667</td>\n",
       "      <td>2017-05-30T00:19:02Z</td>\n",
       "      <td>Musical Instruments</td>\n",
       "    </tr>\n",
       "    <tr>\n",
       "      <th>679</th>\n",
       "      <td>1234656</td>\n",
       "      <td>4 Week Rhythm Mastery</td>\n",
       "      <td>https://www.udemy.com/4-week-rhythm-mastery/</td>\n",
       "      <td>20</td>\n",
       "      <td>0</td>\n",
       "      <td>0</td>\n",
       "      <td>28</td>\n",
       "      <td>All Levels</td>\n",
       "      <td>0.01</td>\n",
       "      <td>2.500000</td>\n",
       "      <td>2017-07-05T16:07:44Z</td>\n",
       "      <td>Musical Instruments</td>\n",
       "    </tr>\n",
       "  </tbody>\n",
       "</table>\n",
       "</div>"
      ],
      "text/plain": [
       "     course_id                                       course_title  \\\n",
       "675    1216340                  Learn to Play Sweet Child of Mine   \n",
       "676    1026762  Coaching Course: Rhythm Instruction for Music ...   \n",
       "677    1223240  Learn Pirates of the Caribbean by Ear on the P...   \n",
       "678    1224186  Learn to Play Piano Like a Pro - Easy Piano Co...   \n",
       "679    1234656                              4 Week Rhythm Mastery   \n",
       "\n",
       "                                                   url  price  \\\n",
       "675  https://www.udemy.com/learn-to-play-sweet-chil...     20   \n",
       "676  https://www.udemy.com/coaching-bundle-rhythm-i...    125   \n",
       "677  https://www.udemy.com/learn-pirates-of-the-car...     20   \n",
       "678  https://www.udemy.com/learn-to-play-piano-like...     35   \n",
       "679       https://www.udemy.com/4-week-rhythm-mastery/     20   \n",
       "\n",
       "     num_subscribers  num_reviews  num_lectures           level  Rating  \\\n",
       "675                0            0            23      All Levels    0.31   \n",
       "676                0            0             7  Beginner Level    0.06   \n",
       "677                0            0             6      All Levels    0.08   \n",
       "678                0            0            13  Beginner Level    0.78   \n",
       "679                0            0            28      All Levels    0.01   \n",
       "\n",
       "     content_duration   published_timestamp              subject  \n",
       "675          1.500000  2017-06-30T17:33:29Z  Musical Instruments  \n",
       "676          0.633333  2017-03-10T17:06:46Z  Musical Instruments  \n",
       "677          0.533333  2017-05-22T17:14:43Z  Musical Instruments  \n",
       "678          0.516667  2017-05-30T00:19:02Z  Musical Instruments  \n",
       "679          2.500000  2017-07-05T16:07:44Z  Musical Instruments  "
      ]
     },
     "execution_count": 41,
     "metadata": {},
     "output_type": "execute_result"
    }
   ],
   "source": [
    "df.tail()"
   ]
  },
  {
   "cell_type": "code",
   "execution_count": 42,
   "id": "1321c095-2715-4634-b9ba-9d5821afca0b",
   "metadata": {},
   "outputs": [
    {
     "data": {
      "text/html": [
       "<div>\n",
       "<style scoped>\n",
       "    .dataframe tbody tr th:only-of-type {\n",
       "        vertical-align: middle;\n",
       "    }\n",
       "\n",
       "    .dataframe tbody tr th {\n",
       "        vertical-align: top;\n",
       "    }\n",
       "\n",
       "    .dataframe thead th {\n",
       "        text-align: right;\n",
       "    }\n",
       "</style>\n",
       "<table border=\"1\" class=\"dataframe\">\n",
       "  <thead>\n",
       "    <tr style=\"text-align: right;\">\n",
       "      <th></th>\n",
       "      <th>course_id</th>\n",
       "      <th>course_title</th>\n",
       "      <th>url</th>\n",
       "      <th>price</th>\n",
       "      <th>num_subscribers</th>\n",
       "      <th>num_reviews</th>\n",
       "      <th>num_lectures</th>\n",
       "      <th>level</th>\n",
       "      <th>Rating</th>\n",
       "      <th>content_duration</th>\n",
       "      <th>published_timestamp</th>\n",
       "      <th>subject</th>\n",
       "    </tr>\n",
       "  </thead>\n",
       "  <tbody>\n",
       "    <tr>\n",
       "      <th>676</th>\n",
       "      <td>1026762</td>\n",
       "      <td>Coaching Course: Rhythm Instruction for Music ...</td>\n",
       "      <td>https://www.udemy.com/coaching-bundle-rhythm-i...</td>\n",
       "      <td>125</td>\n",
       "      <td>0</td>\n",
       "      <td>0</td>\n",
       "      <td>7</td>\n",
       "      <td>Beginner Level</td>\n",
       "      <td>0.06</td>\n",
       "      <td>0.633333</td>\n",
       "      <td>2017-03-10T17:06:46Z</td>\n",
       "      <td>Musical Instruments</td>\n",
       "    </tr>\n",
       "    <tr>\n",
       "      <th>677</th>\n",
       "      <td>1223240</td>\n",
       "      <td>Learn Pirates of the Caribbean by Ear on the P...</td>\n",
       "      <td>https://www.udemy.com/learn-pirates-of-the-car...</td>\n",
       "      <td>20</td>\n",
       "      <td>0</td>\n",
       "      <td>0</td>\n",
       "      <td>6</td>\n",
       "      <td>All Levels</td>\n",
       "      <td>0.08</td>\n",
       "      <td>0.533333</td>\n",
       "      <td>2017-05-22T17:14:43Z</td>\n",
       "      <td>Musical Instruments</td>\n",
       "    </tr>\n",
       "    <tr>\n",
       "      <th>678</th>\n",
       "      <td>1224186</td>\n",
       "      <td>Learn to Play Piano Like a Pro - Easy Piano Co...</td>\n",
       "      <td>https://www.udemy.com/learn-to-play-piano-like...</td>\n",
       "      <td>35</td>\n",
       "      <td>0</td>\n",
       "      <td>0</td>\n",
       "      <td>13</td>\n",
       "      <td>Beginner Level</td>\n",
       "      <td>0.78</td>\n",
       "      <td>0.516667</td>\n",
       "      <td>2017-05-30T00:19:02Z</td>\n",
       "      <td>Musical Instruments</td>\n",
       "    </tr>\n",
       "    <tr>\n",
       "      <th>679</th>\n",
       "      <td>1234656</td>\n",
       "      <td>4 Week Rhythm Mastery</td>\n",
       "      <td>https://www.udemy.com/4-week-rhythm-mastery/</td>\n",
       "      <td>20</td>\n",
       "      <td>0</td>\n",
       "      <td>0</td>\n",
       "      <td>28</td>\n",
       "      <td>All Levels</td>\n",
       "      <td>0.01</td>\n",
       "      <td>2.500000</td>\n",
       "      <td>2017-07-05T16:07:44Z</td>\n",
       "      <td>Musical Instruments</td>\n",
       "    </tr>\n",
       "  </tbody>\n",
       "</table>\n",
       "</div>"
      ],
      "text/plain": [
       "     course_id                                       course_title  \\\n",
       "676    1026762  Coaching Course: Rhythm Instruction for Music ...   \n",
       "677    1223240  Learn Pirates of the Caribbean by Ear on the P...   \n",
       "678    1224186  Learn to Play Piano Like a Pro - Easy Piano Co...   \n",
       "679    1234656                              4 Week Rhythm Mastery   \n",
       "\n",
       "                                                   url  price  \\\n",
       "676  https://www.udemy.com/coaching-bundle-rhythm-i...    125   \n",
       "677  https://www.udemy.com/learn-pirates-of-the-car...     20   \n",
       "678  https://www.udemy.com/learn-to-play-piano-like...     35   \n",
       "679       https://www.udemy.com/4-week-rhythm-mastery/     20   \n",
       "\n",
       "     num_subscribers  num_reviews  num_lectures           level  Rating  \\\n",
       "676                0            0             7  Beginner Level    0.06   \n",
       "677                0            0             6      All Levels    0.08   \n",
       "678                0            0            13  Beginner Level    0.78   \n",
       "679                0            0            28      All Levels    0.01   \n",
       "\n",
       "     content_duration   published_timestamp              subject  \n",
       "676          0.633333  2017-03-10T17:06:46Z  Musical Instruments  \n",
       "677          0.533333  2017-05-22T17:14:43Z  Musical Instruments  \n",
       "678          0.516667  2017-05-30T00:19:02Z  Musical Instruments  \n",
       "679          2.500000  2017-07-05T16:07:44Z  Musical Instruments  "
      ]
     },
     "execution_count": 42,
     "metadata": {},
     "output_type": "execute_result"
    }
   ],
   "source": [
    "df.tail(4)"
   ]
  },
  {
   "cell_type": "code",
   "execution_count": 43,
   "id": "6620f9ce-5c0c-44b4-8f68-790d116d1fd6",
   "metadata": {},
   "outputs": [
    {
     "name": "stdout",
     "output_type": "stream",
     "text": [
      "<class 'pandas.core.frame.DataFrame'>\n",
      "RangeIndex: 680 entries, 0 to 679\n",
      "Data columns (total 12 columns):\n",
      " #   Column               Non-Null Count  Dtype  \n",
      "---  ------               --------------  -----  \n",
      " 0   course_id            680 non-null    int64  \n",
      " 1   course_title         680 non-null    object \n",
      " 2   url                  680 non-null    object \n",
      " 3   price                680 non-null    int64  \n",
      " 4   num_subscribers      680 non-null    int64  \n",
      " 5   num_reviews          680 non-null    int64  \n",
      " 6   num_lectures         680 non-null    int64  \n",
      " 7   level                680 non-null    object \n",
      " 8   Rating               680 non-null    float64\n",
      " 9   content_duration     680 non-null    float64\n",
      " 10  published_timestamp  680 non-null    object \n",
      " 11  subject              680 non-null    object \n",
      "dtypes: float64(2), int64(5), object(5)\n",
      "memory usage: 63.9+ KB\n"
     ]
    }
   ],
   "source": [
    "df.info()"
   ]
  },
  {
   "cell_type": "code",
   "execution_count": null,
   "id": "b09b57d7-dc2c-43d2-8d9a-3e483b7b6043",
   "metadata": {},
   "outputs": [],
   "source": []
  }
 ],
 "metadata": {
  "kernelspec": {
   "display_name": "Python 3 (ipykernel)",
   "language": "python",
   "name": "python3"
  },
  "language_info": {
   "codemirror_mode": {
    "name": "ipython",
    "version": 3
   },
   "file_extension": ".py",
   "mimetype": "text/x-python",
   "name": "python",
   "nbconvert_exporter": "python",
   "pygments_lexer": "ipython3",
   "version": "3.12.4"
  }
 },
 "nbformat": 4,
 "nbformat_minor": 5
}
