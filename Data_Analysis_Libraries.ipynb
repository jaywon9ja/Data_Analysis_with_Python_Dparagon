{
 "cells": [
  {
   "cell_type": "markdown",
   "id": "9a6ee373-aae1-405a-9960-27c85260b671",
   "metadata": {},
   "source": [
    "## Data Analysis with python\n",
    "\n",
    ". numpy\n",
    ". pandas"
   ]
  },
  {
   "cell_type": "code",
   "execution_count": 1,
   "id": "0b6ba9b8-5801-455f-a056-fa73eeb4d67e",
   "metadata": {},
   "outputs": [
    {
     "name": "stdout",
     "output_type": "stream",
     "text": [
      "Requirement already satisfied: numpy in c:\\users\\juwon - pc\\anaconda3\\lib\\site-packages (1.26.4)\n"
     ]
    }
   ],
   "source": [
    "!pip install numpy"
   ]
  },
  {
   "cell_type": "markdown",
   "id": "ac9c68f4-c1a6-4022-a610-44ef62324a3a",
   "metadata": {},
   "source": [
    "## Numpy Library (Numerical Python)\n",
    "\n",
    "A library that is basically a class that has been modularized"
   ]
  },
  {
   "cell_type": "code",
   "execution_count": 2,
   "id": "8b178837-c5f0-4272-bf67-b0737c6e3b74",
   "metadata": {},
   "outputs": [],
   "source": [
    "import numpy as np"
   ]
  },
  {
   "cell_type": "code",
   "execution_count": 3,
   "id": "b6a6c267-bc8e-45c9-8e6b-ba4c0494ca74",
   "metadata": {},
   "outputs": [
    {
     "name": "stdout",
     "output_type": "stream",
     "text": [
      "[2 3 4 5 6]\n"
     ]
    }
   ],
   "source": [
    "numbers = np.array([2,3,4,5,6])\n",
    "\n",
    "print(numbers)"
   ]
  },
  {
   "cell_type": "code",
   "execution_count": 4,
   "id": "0657c462-aeec-471f-921e-5a749f46ca41",
   "metadata": {},
   "outputs": [
    {
     "data": {
      "text/plain": [
       "numpy.ndarray"
      ]
     },
     "execution_count": 4,
     "metadata": {},
     "output_type": "execute_result"
    }
   ],
   "source": [
    "type(numbers)"
   ]
  },
  {
   "cell_type": "code",
   "execution_count": 5,
   "id": "19a2f7fe-6af1-4377-bef9-28870c28deef",
   "metadata": {},
   "outputs": [
    {
     "data": {
      "text/plain": [
       "1"
      ]
     },
     "execution_count": 5,
     "metadata": {},
     "output_type": "execute_result"
    }
   ],
   "source": [
    "numbers.ndim"
   ]
  },
  {
   "cell_type": "code",
   "execution_count": 7,
   "id": "6a8c5d13-8b87-4945-8221-ea352c7a97e4",
   "metadata": {},
   "outputs": [],
   "source": [
    "arr_2 = np.array([[2,4],[3,6]])"
   ]
  },
  {
   "cell_type": "code",
   "execution_count": 8,
   "id": "802708a5-760d-47f4-83e2-17fcad4361f8",
   "metadata": {},
   "outputs": [
    {
     "data": {
      "text/plain": [
       "2"
      ]
     },
     "execution_count": 8,
     "metadata": {},
     "output_type": "execute_result"
    }
   ],
   "source": [
    "arr_2.ndim"
   ]
  },
  {
   "cell_type": "code",
   "execution_count": 9,
   "id": "c4181406-9316-4634-abac-36bc84c04d0b",
   "metadata": {},
   "outputs": [],
   "source": [
    "arr_3 = np.array([\n",
    "    [3,4,5],\n",
    "    [2,7,9],\n",
    "    [3,7,4]\n",
    "])"
   ]
  },
  {
   "cell_type": "code",
   "execution_count": 10,
   "id": "3bd8b718-0a6e-4186-9156-86c5bebada23",
   "metadata": {},
   "outputs": [
    {
     "data": {
      "text/plain": [
       "2"
      ]
     },
     "execution_count": 10,
     "metadata": {},
     "output_type": "execute_result"
    }
   ],
   "source": [
    "arr_3.ndim"
   ]
  },
  {
   "cell_type": "code",
   "execution_count": 11,
   "id": "4860dbca-419d-4b6b-a6d2-6a74fbe937f6",
   "metadata": {},
   "outputs": [
    {
     "data": {
      "text/plain": [
       "(3, 3)"
      ]
     },
     "execution_count": 11,
     "metadata": {},
     "output_type": "execute_result"
    }
   ],
   "source": [
    "arr_3.shape"
   ]
  },
  {
   "cell_type": "code",
   "execution_count": 12,
   "id": "94a0ea3f-9384-42a8-8daf-f1e176ee4888",
   "metadata": {},
   "outputs": [
    {
     "data": {
      "text/plain": [
       "(2, 2)"
      ]
     },
     "execution_count": 12,
     "metadata": {},
     "output_type": "execute_result"
    }
   ],
   "source": [
    "arr_2.shape"
   ]
  },
  {
   "cell_type": "code",
   "execution_count": 14,
   "id": "b7bb13f1-c98b-40d5-9ab5-c7719c8033e8",
   "metadata": {},
   "outputs": [],
   "source": [
    "arr_4 = np.array([\n",
    "    [3,4,5,6],\n",
    "    [2,4,5,6],\n",
    "    [3,4,5,6],\n",
    "    [1,2,4,5]\n",
    "])"
   ]
  },
  {
   "cell_type": "code",
   "execution_count": 15,
   "id": "32c936fc-aeb2-4cf1-8061-3fca9a6601cb",
   "metadata": {},
   "outputs": [
    {
     "data": {
      "text/plain": [
       "(4, 4)"
      ]
     },
     "execution_count": 15,
     "metadata": {},
     "output_type": "execute_result"
    }
   ],
   "source": [
    "arr_4.shape"
   ]
  },
  {
   "cell_type": "code",
   "execution_count": 16,
   "id": "6194cd28-b9da-43b1-ae11-61383f3a377d",
   "metadata": {},
   "outputs": [
    {
     "data": {
      "text/plain": [
       "2"
      ]
     },
     "execution_count": 16,
     "metadata": {},
     "output_type": "execute_result"
    }
   ],
   "source": [
    "arr_4.ndim"
   ]
  },
  {
   "cell_type": "code",
   "execution_count": null,
   "id": "90464502-4bb9-4e9f-af18-549bcbf38266",
   "metadata": {},
   "outputs": [],
   "source": []
  }
 ],
 "metadata": {
  "kernelspec": {
   "display_name": "Python 3 (ipykernel)",
   "language": "python",
   "name": "python3"
  },
  "language_info": {
   "codemirror_mode": {
    "name": "ipython",
    "version": 3
   },
   "file_extension": ".py",
   "mimetype": "text/x-python",
   "name": "python",
   "nbconvert_exporter": "python",
   "pygments_lexer": "ipython3",
   "version": "3.12.4"
  }
 },
 "nbformat": 4,
 "nbformat_minor": 5
}
